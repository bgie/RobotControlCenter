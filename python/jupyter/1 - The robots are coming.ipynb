{
 "cells": [
  {
   "cell_type": "markdown",
   "id": "cfce8418",
   "metadata": {},
   "source": [
    "# 1 - The robots are coming!\n",
    "`Missie: je robot naar een doel laten rijden.`"
   ]
  },
  {
   "cell_type": "markdown",
   "id": "2891743e",
   "metadata": {},
   "source": [
    "## Hoe werkt dat ding hier?\n",
    "Je kijkt nu naar een **jupyter notebook**.\n",
    "In een notebook kan gewone tekst staan, zoals deze blok uitleg.\n",
    "Maar je kan ook **python code** schrijven in een notebook, en die uitvoeren.\n",
    "De volgende blok bevat 1 regel python code als voorbeeld. Als je deze blok uitvoert, zal het **print** commando de tekst tussen aanhalingstekens 10 maal op het scherm schrijven.\n",
    "\n",
    "**Selecteer** met de muis de blok hieronder en klik dan op de **RUN** knop vanboven. De code wordt uitgevoerd en het resultaat verschijnt vlak onder de code."
   ]
  },
  {
   "cell_type": "code",
   "execution_count": null,
   "id": "c332b4ed",
   "metadata": {},
   "outputs": [],
   "source": [
    "print(\"is het nog ver ik moet pipi doen \" * 10)"
   ]
  },
  {
   "cell_type": "markdown",
   "id": "3c5a2ce9",
   "metadata": {},
   "source": [
    "Je kan de code ook makkelijk **aanpassen**! Verander de tekst tussen aanhalingstekens naar iets minder irritant, bijvoorbeeld \"Hallo *jouw_naam*!\".\n",
    "Voer de code opnieuw uit door de blok te **selecteren** en op **RUN** te klikken. Het resultaat zal ook veranderd zijn!\n",
    "\n",
    "*Tip:* Je kan ook de sneltoets CTRL+ENTER gebruiken om een blok code uit te voeren.\n",
    "\n",
    "Het kan ook dat je iets typte wat de computer niet begrijpt, dan krijg je vaak een lange lijst van **errors** in het Engels. Computers zijn niet bijster slim, en foutmeldingen niet altijd even duidelijk. Als je errors krijgt, kan je best schreeuwend het lokaal uitlopen. Of **vraag** gewoon uitleg aan de coach!"
   ]
  },
  {
   "cell_type": "markdown",
   "id": "4c0c25c5",
   "metadata": {},
   "source": [
    "## Verbinden met een robot\n",
    "\n",
    "Laten we er aan beginnen! \n",
    "\n",
    "Als eerste stap gaan we de 'robots' **bibliotheek inladen**\n",
    ". Daar zit alle code in die nodig is om met de robot te verbinden, die hoef je zelf niet meer te schrijven. **RUN** de blok code hier onder. Als de bibliotheek met succes is ingeladen, krijg je een versie nummer te zien."
   ]
  },
  {
   "cell_type": "code",
   "execution_count": null,
   "id": "1d2b81d4",
   "metadata": {},
   "outputs": [],
   "source": [
    "import robots\n",
    "from robots import Robot\n",
    "print(robots.__version__)"
   ]
  },
  {
   "cell_type": "markdown",
   "id": "c60fe5e8",
   "metadata": {},
   "source": [
    "Elke robot heeft een naam (of een nummer). We gaan de **naam van jouw robot** opslaan in een **variabele**, om die later te gebruiken in ons programma. Een variabele is een stukje geheugen van de computer waar we een naam aan geven. In dat geheugen wordt een waarde opgeslagen. Dan kan je overal in je code de naam van die variabele gebruiken, en zal de computer telkens de waarde van de variabele opzoeken en gebruiken.\n",
    "Verander de **X** hieronder in de naam van de robot die je gekregen hebt, en **RUN** de code."
   ]
  },
  {
   "cell_type": "code",
   "execution_count": null,
   "id": "288f04ce",
   "metadata": {},
   "outputs": [],
   "source": [
    "robotnaam = \"x\"\n",
    "print(\"De naam van mijn robot is\", robotnaam)"
   ]
  }
 ],
 "metadata": {
  "kernelspec": {
   "display_name": "Python 3",
   "language": "python",
   "name": "python3"
  },
  "language_info": {
   "codemirror_mode": {
    "name": "ipython",
    "version": 3
   },
   "file_extension": ".py",
   "mimetype": "text/x-python",
   "name": "python",
   "nbconvert_exporter": "python",
   "pygments_lexer": "ipython3",
   "version": "3.7.3"
  }
 },
 "nbformat": 4,
 "nbformat_minor": 5
}
